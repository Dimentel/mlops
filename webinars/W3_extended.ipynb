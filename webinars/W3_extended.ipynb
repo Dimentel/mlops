{
 "cells": [
  {
   "cell_type": "code",
   "execution_count": 1,
   "id": "b84c17c8-135f-4522-aaee-92e861ec3914",
   "metadata": {},
   "outputs": [
    {
     "name": "stdout",
     "output_type": "stream",
     "text": [
      "MLFLOW_TRACKING_URI = http://mlflow-service:5000\n"
     ]
    }
   ],
   "source": [
    "import os\n",
    "import json\n",
    "from pathlib import Path\n",
    "\n",
    "import numpy as np\n",
    "import pandas as pd\n",
    "import matplotlib.pyplot as plt\n",
    "\n",
    "import mlflow\n",
    "from mlflow.tracking import MlflowClient\n",
    "from mlflow.models import infer_signature\n",
    "\n",
    "from sklearn import datasets\n",
    "from sklearn.model_selection import train_test_split\n",
    "from sklearn.preprocessing import StandardScaler\n",
    "from sklearn.metrics import mean_squared_error, median_absolute_error, r2_score\n",
    "from sklearn.linear_model import LinearRegression\n",
    "from sklearn.ensemble import RandomForestRegressor, HistGradientBoostingRegressor\n",
    "\n",
    "\n",
    "\n",
    "print(\"MLFLOW_TRACKING_URI =\", os.environ[\"MLFLOW_TRACKING_URI\"])"
   ]
  },
  {
   "cell_type": "code",
   "execution_count": 2,
   "id": "96bff9a0-d51c-40a5-9272-8300fa224843",
   "metadata": {},
   "outputs": [
    {
     "data": {
      "text/html": [
       "<div>\n",
       "<style scoped>\n",
       "    .dataframe tbody tr th:only-of-type {\n",
       "        vertical-align: middle;\n",
       "    }\n",
       "\n",
       "    .dataframe tbody tr th {\n",
       "        vertical-align: top;\n",
       "    }\n",
       "\n",
       "    .dataframe thead th {\n",
       "        text-align: right;\n",
       "    }\n",
       "</style>\n",
       "<table border=\"1\" class=\"dataframe\">\n",
       "  <thead>\n",
       "    <tr style=\"text-align: right;\">\n",
       "      <th></th>\n",
       "      <th>age</th>\n",
       "      <th>sex</th>\n",
       "      <th>bmi</th>\n",
       "      <th>bp</th>\n",
       "      <th>s1</th>\n",
       "      <th>s2</th>\n",
       "      <th>s3</th>\n",
       "      <th>s4</th>\n",
       "      <th>s5</th>\n",
       "      <th>s6</th>\n",
       "      <th>target</th>\n",
       "    </tr>\n",
       "  </thead>\n",
       "  <tbody>\n",
       "    <tr>\n",
       "      <th>0</th>\n",
       "      <td>0.038076</td>\n",
       "      <td>0.050680</td>\n",
       "      <td>0.061696</td>\n",
       "      <td>0.021872</td>\n",
       "      <td>-0.044223</td>\n",
       "      <td>-0.034821</td>\n",
       "      <td>-0.043401</td>\n",
       "      <td>-0.002592</td>\n",
       "      <td>0.019907</td>\n",
       "      <td>-0.017646</td>\n",
       "      <td>151.0</td>\n",
       "    </tr>\n",
       "    <tr>\n",
       "      <th>1</th>\n",
       "      <td>-0.001882</td>\n",
       "      <td>-0.044642</td>\n",
       "      <td>-0.051474</td>\n",
       "      <td>-0.026328</td>\n",
       "      <td>-0.008449</td>\n",
       "      <td>-0.019163</td>\n",
       "      <td>0.074412</td>\n",
       "      <td>-0.039493</td>\n",
       "      <td>-0.068332</td>\n",
       "      <td>-0.092204</td>\n",
       "      <td>75.0</td>\n",
       "    </tr>\n",
       "    <tr>\n",
       "      <th>2</th>\n",
       "      <td>0.085299</td>\n",
       "      <td>0.050680</td>\n",
       "      <td>0.044451</td>\n",
       "      <td>-0.005670</td>\n",
       "      <td>-0.045599</td>\n",
       "      <td>-0.034194</td>\n",
       "      <td>-0.032356</td>\n",
       "      <td>-0.002592</td>\n",
       "      <td>0.002861</td>\n",
       "      <td>-0.025930</td>\n",
       "      <td>141.0</td>\n",
       "    </tr>\n",
       "    <tr>\n",
       "      <th>3</th>\n",
       "      <td>-0.089063</td>\n",
       "      <td>-0.044642</td>\n",
       "      <td>-0.011595</td>\n",
       "      <td>-0.036656</td>\n",
       "      <td>0.012191</td>\n",
       "      <td>0.024991</td>\n",
       "      <td>-0.036038</td>\n",
       "      <td>0.034309</td>\n",
       "      <td>0.022688</td>\n",
       "      <td>-0.009362</td>\n",
       "      <td>206.0</td>\n",
       "    </tr>\n",
       "    <tr>\n",
       "      <th>4</th>\n",
       "      <td>0.005383</td>\n",
       "      <td>-0.044642</td>\n",
       "      <td>-0.036385</td>\n",
       "      <td>0.021872</td>\n",
       "      <td>0.003935</td>\n",
       "      <td>0.015596</td>\n",
       "      <td>0.008142</td>\n",
       "      <td>-0.002592</td>\n",
       "      <td>-0.031988</td>\n",
       "      <td>-0.046641</td>\n",
       "      <td>135.0</td>\n",
       "    </tr>\n",
       "  </tbody>\n",
       "</table>\n",
       "</div>"
      ],
      "text/plain": [
       "        age       sex       bmi        bp        s1        s2        s3  \\\n",
       "0  0.038076  0.050680  0.061696  0.021872 -0.044223 -0.034821 -0.043401   \n",
       "1 -0.001882 -0.044642 -0.051474 -0.026328 -0.008449 -0.019163  0.074412   \n",
       "2  0.085299  0.050680  0.044451 -0.005670 -0.045599 -0.034194 -0.032356   \n",
       "3 -0.089063 -0.044642 -0.011595 -0.036656  0.012191  0.024991 -0.036038   \n",
       "4  0.005383 -0.044642 -0.036385  0.021872  0.003935  0.015596  0.008142   \n",
       "\n",
       "         s4        s5        s6  target  \n",
       "0 -0.002592  0.019907 -0.017646   151.0  \n",
       "1 -0.039493 -0.068332 -0.092204    75.0  \n",
       "2 -0.002592  0.002861 -0.025930   141.0  \n",
       "3  0.034309  0.022688 -0.009362   206.0  \n",
       "4 -0.002592 -0.031988 -0.046641   135.0  "
      ]
     },
     "execution_count": 2,
     "metadata": {},
     "output_type": "execute_result"
    }
   ],
   "source": [
    "diabetes = datasets.load_diabetes(as_frame=True)\n",
    "df = diabetes.frame.copy()\n",
    "\n",
    "TARGET = \"target\"\n",
    "FEATURES = [c for c in df.columns if c != TARGET]\n",
    "\n",
    "X = df[FEATURES]\n",
    "y = df[TARGET]\n",
    "\n",
    "X_train, X_test, y_train, y_test = train_test_split(\n",
    "    X, y, test_size=0.2, random_state=42\n",
    ")\n",
    "\n",
    "scaler = StandardScaler()\n",
    "X_train_scaled = scaler.fit_transform(X_train)\n",
    "X_test_scaled  = scaler.transform(X_test)\n",
    "\n",
    "df.head()\n"
   ]
  },
  {
   "cell_type": "code",
   "execution_count": 3,
   "id": "9862046d-7b61-47df-a363-8cc980819837",
   "metadata": {},
   "outputs": [
    {
     "name": "stdout",
     "output_type": "stream",
     "text": [
      "Experiment: <Experiment: artifact_location='s3://mlops-2025/mlflow/385851095250271093', creation_time=1758725373719, experiment_id='385851095250271093', last_update_time=1758725373719, lifecycle_stage='active', name='Test', tags={}>\n",
      "Existing: <Experiment: artifact_location='s3://mlops-2025/mlflow/385851095250271093', creation_time=1758725373719, experiment_id='385851095250271093', last_update_time=1758725373719, lifecycle_stage='active', name='Test', tags={}>\n"
     ]
    }
   ],
   "source": [
    "EXPERIMENT_NAME = \"Test\"\n",
    "\n",
    "# Установим эксперимент (создаст, если не существует)\n",
    "experiment = mlflow.set_experiment(EXPERIMENT_NAME)\n",
    "print(\"Experiment:\", experiment)\n",
    "\n",
    "# Проверка через клиента\n",
    "client = MlflowClient()\n",
    "existing = client.get_experiment_by_name(EXPERIMENT_NAME)\n",
    "print(\"Existing:\", existing)\n"
   ]
  },
  {
   "cell_type": "code",
   "execution_count": 4,
   "id": "f14bae44-1687-4e1c-adca-d68b6fc2b43c",
   "metadata": {},
   "outputs": [
    {
     "name": "stderr",
     "output_type": "stream",
     "text": [
      "2025/10/01 16:20:21 INFO mlflow.tracking._tracking_service.client: 🏃 View run Simple_run at: http://mlflow-service:5000/#/experiments/385851095250271093/runs/2565ce0c21f146aa951c5441b8ce8db9.\n",
      "2025/10/01 16:20:21 INFO mlflow.tracking._tracking_service.client: 🧪 View experiment at: http://mlflow-service:5000/#/experiments/385851095250271093.\n"
     ]
    },
    {
     "name": "stdout",
     "output_type": "stream",
     "text": [
      "Run ID: 2565ce0c21f146aa951c5441b8ce8db9 | RMSE: 53.85344583676594\n"
     ]
    }
   ],
   "source": [
    "# Run\n",
    "with mlflow.start_run(run_name=\"Simple_run\") as run:\n",
    "    mlflow.set_tag(\"author\", \"liza\")\n",
    "    mlflow.log_param(\"random_state\", 42)\n",
    "\n",
    "    lr = LinearRegression()\n",
    "    lr.fit(X_train_scaled, y_train)\n",
    "    y_pred = lr.predict(X_test_scaled)\n",
    "\n",
    "    rmse = float(np.sqrt(mean_squared_error(y_test, y_pred)))\n",
    "    mae  = float(median_absolute_error(y_test, y_pred))\n",
    "    r2   = float(r2_score(y_test, y_pred))\n",
    "\n",
    "    mlflow.log_metrics({\"rmse\": rmse, \"mae\": mae, \"r2\": r2})\n",
    "\n",
    "    print(\"Run ID:\", run.info.run_id, \"| RMSE:\", rmse)\n"
   ]
  },
  {
   "cell_type": "code",
   "execution_count": 5,
   "id": "35e983a7-2f5a-4672-b529-e1377cd6ec90",
   "metadata": {},
   "outputs": [
    {
     "data": {
      "application/vnd.jupyter.widget-view+json": {
       "model_id": "9ed3f436183c49d4ae80ec877bf88b27",
       "version_major": 2,
       "version_minor": 0
      },
      "text/plain": [
       "Downloading artifacts:   0%|          | 0/7 [00:00<?, ?it/s]"
      ]
     },
     "metadata": {},
     "output_type": "display_data"
    },
    {
     "name": "stderr",
     "output_type": "stream",
     "text": [
      "2025/10/01 16:20:32 INFO mlflow.tracking._tracking_service.client: 🏃 View run Child_HistGB at: http://mlflow-service:5000/#/experiments/385851095250271093/runs/1a1a9d2e7cc64f8b8684787cd79bf4db.\n",
      "2025/10/01 16:20:32 INFO mlflow.tracking._tracking_service.client: 🧪 View experiment at: http://mlflow-service:5000/#/experiments/385851095250271093.\n",
      "2025/10/01 16:20:32 INFO mlflow.tracking._tracking_service.client: 🏃 View run Parent at: http://mlflow-service:5000/#/experiments/385851095250271093/runs/78bb16fc10b8447ab48701356d9e567c.\n",
      "2025/10/01 16:20:32 INFO mlflow.tracking._tracking_service.client: 🧪 View experiment at: http://mlflow-service:5000/#/experiments/385851095250271093.\n"
     ]
    },
    {
     "name": "stdout",
     "output_type": "stream",
     "text": [
      "Child run: 1a1a9d2e7cc64f8b8684787cd79bf4db\n",
      "Parent run: 78bb16fc10b8447ab48701356d9e567c\n"
     ]
    }
   ],
   "source": [
    "# Родительский ран + дочерний (nested run) с infer_signature\n",
    "with mlflow.start_run(run_name=\"Parent\") as parent:\n",
    "    # Общий артефакт\n",
    "    sample = X.head(10)\n",
    "    sample_path = \"sample.csv\"\n",
    "    sample.to_csv(sample_path, index=False)\n",
    "    mlflow.log_artifact(str(sample_path), artifact_path=\"experiment_assets\")\n",
    "\n",
    "    # Дочерний ран\n",
    "    with mlflow.start_run(run_name=\"Child_HistGB\", nested=True) as child:\n",
    "        hgb = HistGradientBoostingRegressor(random_state=42)\n",
    "        hgb.fit(X_train_scaled, y_train)\n",
    "        y_pred = hgb.predict(X_test_scaled)\n",
    "\n",
    "        metrics = {\n",
    "            \"rmse\": float(np.sqrt(mean_squared_error(y_test, y_pred))),\n",
    "            \"mae\":  float(median_absolute_error(y_test, y_pred)),\n",
    "            \"r2\":   float(r2_score(y_test, y_pred))\n",
    "        }\n",
    "        mlflow.log_metrics(metrics)\n",
    "\n",
    "        signature = infer_signature(X_test_scaled, y_pred)\n",
    "        mlflow.sklearn.log_model(hgb, \"model\", signature=signature, input_example=X_test_scaled[:2])\n",
    "\n",
    "        print(\"Child run:\", child.info.run_id)\n",
    "\n",
    "    print(\"Parent run:\", parent.info.run_id)\n"
   ]
  },
  {
   "cell_type": "code",
   "execution_count": 10,
   "id": "3c59faf3-aaa4-4c54-9860-97a94363ae6a",
   "metadata": {},
   "outputs": [
    {
     "name": "stderr",
     "output_type": "stream",
     "text": [
      "2025/10/01 16:23:25 INFO mlflow.store.model_registry.abstract_store: Waiting up to 300 seconds for model version to finish creation. Model name: DiabetesRegressorDemo, version 3\n"
     ]
    },
    {
     "name": "stdout",
     "output_type": "stream",
     "text": [
      "Модель DiabetesRegressorDemo уже существует\n",
      "Создана версия модели: 3\n"
     ]
    }
   ],
   "source": [
    "# Работа с Model Registry\n",
    "REGISTERED_NAME = \"DiabetesRegressorDemo\"\n",
    "\n",
    "# 1. Проверяем, есть ли зарегистрированная модель\n",
    "try:\n",
    "    client.get_registered_model(REGISTERED_NAME)\n",
    "    print(f\"Модель {REGISTERED_NAME} уже существует\")\n",
    "except Exception:\n",
    "    client.create_registered_model(REGISTERED_NAME)\n",
    "    print(f\"Создана зарегистрированная модель {REGISTERED_NAME}\")\n",
    "\n",
    "\n",
    "# 2. Добавляем новую версию\n",
    "run_id = best_uri.split(\"/\")[1]  # runs:/<RUN_ID>/model\n",
    "mv = client.create_model_version(\n",
    "    name=REGISTERED_NAME,\n",
    "    source=mlflow.get_artifact_uri(\"model\"),  # путь внутри рана\n",
    "    run_id=run_id,\n",
    ")\n",
    "print(\"Создана версия модели:\", mv.version)"
   ]
  },
  {
   "cell_type": "code",
   "execution_count": 14,
   "id": "c7d361b4-77d7-40cf-976d-08b1287991bb",
   "metadata": {},
   "outputs": [
    {
     "name": "stdout",
     "output_type": "stream",
     "text": [
      "Версия 3 переведена в Staging\n",
      "Версия 3 переведена в Production\n"
     ]
    },
    {
     "name": "stderr",
     "output_type": "stream",
     "text": [
      "/tmp/ipykernel_237/1979648783.py:2: FutureWarning: ``mlflow.tracking.client.MlflowClient.transition_model_version_stage`` is deprecated since 2.9.0. Model registry stages will be removed in a future major release. To learn more about the deprecation of model registry stages, see our migration guide here: https://mlflow.org/docs/latest/model-registry.html#migrating-from-stages\n",
      "  client.transition_model_version_stage(\n",
      "/tmp/ipykernel_237/1979648783.py:11: FutureWarning: ``mlflow.tracking.client.MlflowClient.transition_model_version_stage`` is deprecated since 2.9.0. Model registry stages will be removed in a future major release. To learn more about the deprecation of model registry stages, see our migration guide here: https://mlflow.org/docs/latest/model-registry.html#migrating-from-stages\n",
      "  client.transition_model_version_stage(\n"
     ]
    }
   ],
   "source": [
    "# 3. Переводим в Staging\n",
    "client.transition_model_version_stage(\n",
    "    name=REGISTERED_NAME,\n",
    "    version=mv.version,\n",
    "    stage=\"Staging\",\n",
    "    archive_existing_versions=False\n",
    ")\n",
    "print(\"Версия\", mv.version, \"переведена в Staging\")\n",
    "\n",
    "# 4. Переводим в Production\n",
    "client.transition_model_version_stage(\n",
    "    name=REGISTERED_NAME,\n",
    "    version=mv.version,\n",
    "    stage=\"Production\",\n",
    "    archive_existing_versions=True\n",
    ")\n",
    "print(\"Версия\", mv.version, \"переведена в Production\")"
   ]
  }
 ],
 "metadata": {
  "kernelspec": {
   "display_name": "Python 3 (ipykernel)",
   "language": "python",
   "name": "python3"
  },
  "language_info": {
   "codemirror_mode": {
    "name": "ipython",
    "version": 3
   },
   "file_extension": ".py",
   "mimetype": "text/x-python",
   "name": "python",
   "nbconvert_exporter": "python",
   "pygments_lexer": "ipython3",
   "version": "3.11.4"
  }
 },
 "nbformat": 4,
 "nbformat_minor": 5
}
